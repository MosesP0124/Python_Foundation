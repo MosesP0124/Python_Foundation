{
  "nbformat": 4,
  "nbformat_minor": 0,
  "metadata": {
    "colab": {
      "name": "04loop.ipynb",
      "provenance": [],
      "collapsed_sections": [
        "WVKalWZZ0nPK",
        "PnL-_StP8FVJ",
        "NQyr5GmY835C",
        "lRz2YGGz-1Mp",
        "xIQpAc9k9Vfo",
        "ME68dfXA_Pyz",
        "rLH1neCt_l2R"
      ],
      "authorship_tag": "ABX9TyMIQApvm7ZFQqNxzJMo1Wx2",
      "include_colab_link": true
    },
    "kernelspec": {
      "name": "python3",
      "display_name": "Python 3"
    },
    "language_info": {
      "name": "python"
    }
  },
  "cells": [
    {
      "cell_type": "markdown",
      "metadata": {
        "id": "view-in-github",
        "colab_type": "text"
      },
      "source": [
        "<a href=\"https://colab.research.google.com/github/MosesP0124/Python_Foundation/blob/main/04loop.ipynb\" target=\"_parent\"><img src=\"https://colab.research.google.com/assets/colab-badge.svg\" alt=\"Open In Colab\"/></a>"
      ]
    },
    {
      "cell_type": "markdown",
      "metadata": {
        "id": "UkmIA-0ny12h"
      },
      "source": [
        "#**04. Loop**\n",
        "\n",
        "---\n",
        "\n",
        "---\n",
        "\n",
        "\n",
        "\n"
      ]
    },
    {
      "cell_type": "markdown",
      "metadata": {
        "id": "imWl_73j11-S"
      },
      "source": [
        "## 리스트와 반복문\n",
        "\n",
        "\n",
        "---\n",
        "\n"
      ]
    },
    {
      "cell_type": "markdown",
      "metadata": {
        "id": "WVKalWZZ0nPK"
      },
      "source": [
        "### 리스트 요소 추가하기"
      ]
    },
    {
      "cell_type": "markdown",
      "metadata": {
        "id": "onXdqGfG77tw"
      },
      "source": [
        "extend() & append() & insert()\n",
        "\n",
        "---\n",
        "\n"
      ]
    },
    {
      "cell_type": "code",
      "metadata": {
        "id": "V3vhIQWE0ws2"
      },
      "source": [
        "# 연산자를 이용한 항목 추가\n",
        "list_a = [1, 2, 3]\n",
        "list_a += [4]\n",
        "print(list_a)\n",
        "\n",
        "# extend()를 이용한 항목 추가\n",
        "list_a = [1, 2, 3]\n",
        "list_a.extend([4])\n",
        "print(list_a)\n",
        "\n",
        "# append()를 이용한 항목 추가\n",
        "list_b = [1, 2, 3]\n",
        "list_b.append(4)\n",
        "print(list_b)\n",
        "\n",
        "# insert를 이용한 항목 추가\n",
        "list_c = [1, 2, 3]\n",
        "list_c.insert(3, 4)\n",
        "print(list_c)"
      ],
      "execution_count": null,
      "outputs": []
    },
    {
      "cell_type": "markdown",
      "metadata": {
        "id": "PnL-_StP8FVJ"
      },
      "source": [
        "### 리스트 요소 삭제하기"
      ]
    },
    {
      "cell_type": "markdown",
      "metadata": {
        "id": "7kudUACa4WMD"
      },
      "source": [
        "del & pop()\n",
        "\n",
        "---\n",
        "\n"
      ]
    },
    {
      "cell_type": "code",
      "metadata": {
        "id": "Fg2MXQHB4cd1"
      },
      "source": [
        "### del\n",
        "list_a = [0, 1, 2, 3, 4, 5]\n",
        "\n",
        "del list_a[1] # 특정 인덱스에 위치한 객체를 삭제\n",
        "print(list_a)\n",
        "\n",
        "del list_a # 변수에 할당된 메모리 자체를 삭제\n",
        "# print(list_a)\n",
        "\n",
        "### pop()\n",
        "list_a = [0, 1, 2, 3, 4, 5]\n",
        "print(list_a.pop()) # 인자값 부재시 index의 가장 마지막 내용이 return되고 내용 삭제\n",
        "print(list_a)\n",
        "print(list_a.pop(0)) # 인자값 지정시 index에서 지정된 내용을  return하고 해당 내용 삭제\n",
        "print(list_a)"
      ],
      "execution_count": null,
      "outputs": []
    },
    {
      "cell_type": "markdown",
      "metadata": {
        "id": "A0AX6hNa6bDd"
      },
      "source": [
        "remove()\n",
        "\n",
        "---\n",
        "\n"
      ]
    },
    {
      "cell_type": "code",
      "metadata": {
        "id": "akX53ogV6evl"
      },
      "source": [
        "list_a = [1,2,1,2,1,2]\n",
        "list_a.remove(2) # 좌측부터 탐색해서 처음 만나는 matched value를 제거\n",
        "print(list_a)\n",
        "# list_a.remove(3) # matched value가 없는 경우 ValueError 발생\n",
        "# print(list_a)"
      ],
      "execution_count": null,
      "outputs": []
    },
    {
      "cell_type": "markdown",
      "metadata": {
        "id": "cX6LgF2E8T6L"
      },
      "source": [
        "clear()\n",
        "\n",
        "---\n",
        "\n"
      ]
    },
    {
      "cell_type": "code",
      "metadata": {
        "colab": {
          "base_uri": "https://localhost:8080/"
        },
        "id": "5y3AkWSt8Zz5",
        "outputId": "33fb7de0-5740-4643-ca36-34badfb7fe90"
      },
      "source": [
        "list_a = [0, 1, 2, 3, 4, 5]\n",
        "\n",
        "list_a.clear() # 내부 요소 모두 제거\n",
        "\n",
        "print(list_a)"
      ],
      "execution_count": null,
      "outputs": [
        {
          "output_type": "stream",
          "text": [
            "[]\n"
          ],
          "name": "stdout"
        }
      ]
    },
    {
      "cell_type": "markdown",
      "metadata": {
        "id": "LRoiTyIy1Bvs"
      },
      "source": [
        "###list methods & list built-in functions"
      ]
    },
    {
      "cell_type": "markdown",
      "metadata": {
        "id": "Ow_rqOnW4tbL"
      },
      "source": [
        "**built-in functions**"
      ]
    },
    {
      "cell_type": "code",
      "metadata": {
        "id": "aQ2QHABv1QPj"
      },
      "source": [
        "list_a = [1,2,3,4,5]\n",
        "\n",
        "len(list_a) # list의 객체 수를 return\n",
        "\n",
        "max(list_a) # list의 객체 중 가장 큰 값을 return \n",
        "\n",
        "min(list_a) # list의 객체 중 가장 작은 값을 return\n",
        "\n",
        "sum(list_a)\n",
        "\"\"\"\n",
        "min()과 max() 그리고 sum()에 대하여: 비교 연산자를 사용하기 때문에 객체간 type이 다르면 TypeError가 발생\n",
        "\"\"\"\n",
        "tuple_a = (1,2,3,4)\n",
        "list(tuple_a) # tuple 자료형을 list로 자료형 변환\n",
        "\n",
        "list_b = [1,2,3] # list_a = [1,2,3,4,5]\n",
        "list_c = [1,2,3,4,5]\n",
        "list_a == list_b\n",
        "list_a == list_c \n",
        "\"\"\"\n",
        "list간에 비교연산 사용가능 \n",
        "단순 같은지만 보기때문에 max와 min 처럼 TypeError는 발생X\n",
        "\"\"\"\n",
        "\n",
        "reversed_a = reversed(list_a)\n",
        "next(reversed_a,\"finished\")  # iter가 끝날때까지 next로 다음 값을 호출할 수 있음 \"finished\"는 StopIteration 예외 발생을 대체\n",
        "list_a = list(reversed(list_a)) # iter 상태인 reversed obj를 list 형으로 변환하면 list.sort(reverse=True)와 같은 효과 + 비효율\n",
        "\n",
        "for idx, val in enumerate(list_a, 10): # enumerate를 이용하여 idx값과 value를 동시에 인자로 전달 받을 수 있다.\n",
        "  print(idx, val)                      # 한개의 변수로 인자를 전달 받는 경우는 x  =  (idx, val) tuple의 형태로 전달됨\n",
        "                                       # enumerate 옆에 10의 값은 idx의 시작값을 별도로 지정할 수 있음을 보여줌"
      ],
      "execution_count": null,
      "outputs": []
    },
    {
      "cell_type": "markdown",
      "metadata": {
        "id": "bc6rPqBm4y30"
      },
      "source": [
        "**methods**"
      ]
    },
    {
      "cell_type": "code",
      "metadata": {
        "colab": {
          "base_uri": "https://localhost:8080/",
          "height": 35
        },
        "id": "5p6YM1Nf44p9",
        "outputId": "045d1684-746a-46d0-fd65-ddc9276260e3"
      },
      "source": [
        "list_a = ['a']\n",
        "\n",
        "list_a.append('b') # 현재 list 맨 마지막 인덱스에 value를 추가\n",
        "\n",
        "list_a.extend(['c','d','e']) # 현재 list 맨 마지막에서 인자값 list를 이어붙임\n",
        "\n",
        "list_a.count('c') # 현재 list 안에 인자값과 일치하는 객체가 몇개인지 return\n",
        "\n",
        "list_a.index('c') # 현재 list안에 인자값과 일치하는 객체의 index 값중 가장 작은 값을 return\n",
        "\n",
        "list_a.insert(10,'f') # 지정한 index의 위치에 해당 값을 넣고 나머지 객체를 뒤로 미룸\n",
        "                      # 만약 list index out of range 인 경우 그냥 맨 마지막 index에 해당 객체를 추가 IndexError 발생하지 않음\n",
        "\n",
        "list_a.pop() # 현재 list 에서 마지막 요소를 제거하고 해당 값을 return\n",
        "             # 인자값이 존재하면 해당 index에 위치한 객체를 제거하고 해당 값을 return\n",
        "\n",
        "list_a.remove('d') # 인자값과 일치하는 객체를 제거. \n",
        "                   # 단, 인자값에 해당하는 객체가 두개 이상인 경우 가장 작은 index 값에 해당하는 객체 제거\n",
        "                   # 일치하는 값이 없는 경우 ValueError 발생, 두개 이상의 인자값을 동시에 할당 불가\n",
        "\n",
        "list_a.reverse() # 현재 list의 요소를 반대로 뒤집음. 값의 크기에 따른 정렬이 아닌 순서만 뒤집는 개념\n",
        "\n",
        "list_a.sort() # 현재 list의 요소를 오름차순으로 정렬\n",
        "list_a.sort(reverse=True) # 현재 list의 요소를 내림차순으로 역정렬\n",
        "\"\"\"\n",
        "sort()의 경우도 객체간 비교연산을 사용하기 때문에 서로 다른 자료형이 존재하는 경우\n",
        "TypeError가 발생함\n",
        "\"\"\"\n"
      ],
      "execution_count": null,
      "outputs": [
        {
          "output_type": "execute_result",
          "data": {
            "application/vnd.google.colaboratory.intrinsic+json": {
              "type": "string"
            },
            "text/plain": [
              "'\\nsort()의 경우도 객체간 비교연산을 사용하기 때문에 서로 다른 자료형이 존재하는 경우\\nTypeError가 발생함\\n'"
            ]
          },
          "metadata": {
            "tags": []
          },
          "execution_count": 50
        }
      ]
    },
    {
      "cell_type": "markdown",
      "metadata": {
        "id": "NQyr5GmY835C"
      },
      "source": [
        "### in/not in 연산자"
      ]
    },
    {
      "cell_type": "code",
      "metadata": {
        "id": "uvpp0Iqv9ca4"
      },
      "source": [
        "list_a = [0, 1, 2, 3, 4, 5]\n",
        "\n",
        "print(0 in list_a)\n",
        "print(0 not in list_a, not (0 in list_a))"
      ],
      "execution_count": null,
      "outputs": []
    },
    {
      "cell_type": "markdown",
      "metadata": {
        "id": "lRz2YGGz-1Mp"
      },
      "source": [
        "### for 반복문"
      ]
    },
    {
      "cell_type": "code",
      "metadata": {
        "id": "W1O0EGON-8zB"
      },
      "source": [
        "for x in range(10): # 기본적인 사용\n",
        "  print(x)\n",
        "  "
      ],
      "execution_count": null,
      "outputs": []
    },
    {
      "cell_type": "markdown",
      "metadata": {
        "id": "W8ojrH5k_Q-V"
      },
      "source": [
        "리스트와 함께 사용하기\n",
        "\n",
        "---\n",
        "\n"
      ]
    },
    {
      "cell_type": "code",
      "metadata": {
        "id": "AjyMbmBSAHKE"
      },
      "source": [
        "list_a = [0, 1, 2, 3, 4, 5]\n",
        "\n",
        "for a in list_a:\n",
        "  print(a, end=\" \")"
      ],
      "execution_count": null,
      "outputs": []
    },
    {
      "cell_type": "markdown",
      "metadata": {
        "id": "ovMsAxGPAhQA"
      },
      "source": [
        "## 딕셔너리와 반복문\n",
        "\n",
        "---\n",
        "\n"
      ]
    },
    {
      "cell_type": "markdown",
      "metadata": {
        "id": "xIQpAc9k9Vfo"
      },
      "source": [
        "### 딕셔너리 생성 추가 제거"
      ]
    },
    {
      "cell_type": "code",
      "metadata": {
        "id": "ZUo13ECT9YF0"
      },
      "source": [
        "dict_a = {\"keyA\":\"valueA\"} # dict 형 생성\n",
        "\n",
        "dict_a[\"keyB\"] = \"valueB\" # dict 요소 추가\n",
        "\n",
        "del dict_a[\"keyA\"] # dict 요소 제거"
      ],
      "execution_count": null,
      "outputs": []
    },
    {
      "cell_type": "markdown",
      "metadata": {
        "id": "ME68dfXA_Pyz"
      },
      "source": [
        "### 딕셔너리 내부에 키가 있는지 확인"
      ]
    },
    {
      "cell_type": "markdown",
      "metadata": {
        "id": "NfxNX7ly_Xkn"
      },
      "source": [
        "get() & in keyword"
      ]
    },
    {
      "cell_type": "code",
      "metadata": {
        "id": "SWddd2gV_dGl"
      },
      "source": [
        "dict_a[\"keyC\"] # 없는 key값으로 접근시 KeyError 발생\n",
        "\n",
        "dict_a.get(\"keyC\") # get() 함수 이용시 없는 키에 접근시 None Return\n",
        "\n",
        "\"keyB\" in dict_a # dict 안에 해당 키가 있는지 확인 True or False"
      ],
      "execution_count": null,
      "outputs": []
    },
    {
      "cell_type": "markdown",
      "metadata": {
        "id": "ApP3XYR3KEsj"
      },
      "source": [
        "###dict methods & dict built-in functions"
      ]
    },
    {
      "cell_type": "markdown",
      "metadata": {
        "id": "EP4SFFA3KOmv"
      },
      "source": [
        "dict built-in functions"
      ]
    },
    {
      "cell_type": "code",
      "metadata": {
        "colab": {
          "base_uri": "https://localhost:8080/"
        },
        "id": "mz_OM3p6KN5R",
        "outputId": "73dabe1e-8395-4164-ea5a-0f0ba67bc7d9"
      },
      "source": [
        "dict_a = { 'a':1, 'b':[2,2,3,4], 'c':3 }\n",
        "\n",
        "len(dict_a) # key의 갯수를 return\n",
        "str(dict_a) # dict를 str형태로 변환 * 사실 list도 가능"
      ],
      "execution_count": null,
      "outputs": [
        {
          "output_type": "stream",
          "text": [
            "{'a': 1, 'b': [2, 2, 3, 4], 'c': 3}\n"
          ],
          "name": "stdout"
        }
      ]
    },
    {
      "cell_type": "markdown",
      "metadata": {
        "id": "R1O54gcRLuEW"
      },
      "source": [
        "dict methods"
      ]
    },
    {
      "cell_type": "code",
      "metadata": {
        "colab": {
          "base_uri": "https://localhost:8080/"
        },
        "id": "YaqqTpMsLwPA",
        "outputId": "db5f2642-f1d0-4c1e-8ca3-299e86c21374"
      },
      "source": [
        "dict_a = { 'a':1, 'b':[2,2,3,4], 'c':3 }\n",
        "\n",
        "dict_a.keys() # keys 객체로써 key 목록을 반환 list형 아님\n",
        "\n",
        "dict_a.values() # values 객체로써 value 목록을 반환 역시 list형 아님 인덱스 형식의 접근 불가 -> 자료형 변환 필요\n",
        "\n",
        "dict_a.items() # (key,value) 형식의 tuple 반환\n",
        "\n",
        "dict_a.clear() # 사전 내 모든 데이터 삭제\n",
        "\n",
        "dict_a = { 'a':1, 'b':[2,2,3,4], 'c':3 }\n",
        "\n",
        "dict_b = dict_a.copy() #사전 {키:값} 셋 복사. 주의) 얕은복사라 내부에 list 같은 이터레이터는 본체 주소가 들어감\n",
        "\n",
        "key_set = (\"a\",\"e\",\"f\")\n",
        "dict_b = dict.fromkeys(key_set,\"abc\") # (tuple)keyset 으로 지정된 변수를 초기화 \"abc\"는 초기화 값을 지정 가능(optional)\n",
        "\n",
        "dict_a.get(\"bbb\",123) # 현재 dict 내에서 \"bbb\" 키값을 찾음. 있으면 해당 키의 value를 반환\n",
        "                      # 못찾는 경우 KeyError 예외 발생을 방지하기 위해 123 값을 default 값으로 지정\n",
        "\n",
        "dict_a.setdefault(\"bbb\",3213) # 현재 dict 내에서 \"bbb\" 키값을 찾음. 있으면 해당 키의 value를 반환 \n",
        "                              # 없는 경우 3213의 값으로 \"bbb\" 키를 생성, 해당 부분을 생략시 None으로 초기화\n",
        "\n",
        "dict_a.update(dict_b) # dict_a에 dict_b의 값을 update 시킴.\n",
        "                      # 이미 있는 값의 경우 dict_b의 값으로 재할당 밑 없는 키값은 신규 추가"
      ],
      "execution_count": null,
      "outputs": [
        {
          "output_type": "stream",
          "text": [
            "{'a': 'abc', 'b': [2, 2, 3, 4], 'c': 3, 'bbb': 3213, 'e': 'abc', 'f': 'abc'}\n"
          ],
          "name": "stdout"
        }
      ]
    },
    {
      "cell_type": "markdown",
      "metadata": {
        "id": "rLH1neCt_l2R"
      },
      "source": [
        "###for 반복문: 딕셔너리와 함께 사용"
      ]
    },
    {
      "cell_type": "code",
      "metadata": {
        "id": "YGorK51z_qHW"
      },
      "source": [
        "dict_a = {1:100, 2:200, 3:300, 4:400}\n",
        "\n",
        "for key in dict_a:\n",
        "  dict_a[key] # for 문에 dict를 사용하는 경우 key를 순차적으로 대입\n",
        "\n",
        "# 명확하게 표기하기 위해 아래와 같은 방법을 권장\n",
        "for key in dict_a.keys():\n",
        "  dict_a[key]"
      ],
      "execution_count": null,
      "outputs": []
    }
  ]
}